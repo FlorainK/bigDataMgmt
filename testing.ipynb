{
 "cells": [
  {
   "cell_type": "code",
   "execution_count": 12,
   "metadata": {},
   "outputs": [
    {
     "ename": "AttributeError",
     "evalue": "'Car' object has no attribute '__d'",
     "output_type": "error",
     "traceback": [
      "\u001b[1;31m---------------------------------------------------------------------------\u001b[0m",
      "\u001b[1;31mAttributeError\u001b[0m                            Traceback (most recent call last)",
      "Cell \u001b[1;32mIn[12], line 11\u001b[0m\n\u001b[0;32m      7\u001b[0m     geschwindigkeit: \u001b[38;5;28mint\u001b[39m\n\u001b[0;32m     10\u001b[0m car \u001b[38;5;241m=\u001b[39m Car(fin\u001b[38;5;241m=\u001b[39m\u001b[38;5;124m\"\u001b[39m\u001b[38;5;124mfloriansAuto\u001b[39m\u001b[38;5;124m\"\u001b[39m, zeit\u001b[38;5;241m=\u001b[39m\u001b[38;5;124m\"\u001b[39m\u001b[38;5;124m2021-06-01T12:00:00\u001b[39m\u001b[38;5;124m\"\u001b[39m, geschwindigkeit\u001b[38;5;241m=\u001b[39m\u001b[38;5;241m50\u001b[39m)\n\u001b[1;32m---> 11\u001b[0m \u001b[38;5;28mdict\u001b[39m \u001b[38;5;241m=\u001b[39m \u001b[43mcar\u001b[49m\u001b[38;5;241;43m.\u001b[39;49m\u001b[43m__d\u001b[49m\n\u001b[0;32m     12\u001b[0m \u001b[38;5;28mdict\u001b[39m\u001b[38;5;241m.\u001b[39mpop(\u001b[38;5;124m'\u001b[39m\u001b[38;5;124m__evaluated_fields__\u001b[39m\u001b[38;5;124m'\u001b[39m)\n",
      "\u001b[1;31mAttributeError\u001b[0m: 'Car' object has no attribute '__d'"
     ]
    }
   ],
   "source": [
    "import json\n",
    "import faust\n",
    "\n",
    "class Car(faust.Record, serializer='json'):\n",
    "    fin: str\n",
    "    zeit: str\n",
    "    geschwindigkeit: int\n",
    "\n",
    "\n",
    "car = Car(fin=\"floriansAuto\", zeit=\"2021-06-01T12:00:00\", geschwindigkeit=50)\n",
    "dict = car.__d\n",
    "dict.pop('__evaluated_fields__')\n"
   ]
  },
  {
   "cell_type": "code",
   "execution_count": 10,
   "metadata": {},
   "outputs": [
    {
     "data": {
      "text/plain": [
       "'{\"fin\": \"floriansAuto\", \"zeit\": \"2021-06-01T12:00:00\", \"geschwindigkeit\": 50}'"
      ]
     },
     "execution_count": 10,
     "metadata": {},
     "output_type": "execute_result"
    }
   ],
   "source": []
  }
 ],
 "metadata": {
  "kernelspec": {
   "display_name": "Python 3",
   "language": "python",
   "name": "python3"
  },
  "language_info": {
   "codemirror_mode": {
    "name": "ipython",
    "version": 3
   },
   "file_extension": ".py",
   "mimetype": "text/x-python",
   "name": "python",
   "nbconvert_exporter": "python",
   "pygments_lexer": "ipython3",
   "version": "3.12.0"
  }
 },
 "nbformat": 4,
 "nbformat_minor": 2
}
